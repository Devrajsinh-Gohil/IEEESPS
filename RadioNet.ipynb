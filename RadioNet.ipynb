{
 "cells": [
  {
   "cell_type": "code",
   "execution_count": 1,
   "id": "75923e50",
   "metadata": {
    "_cell_guid": "b1076dfc-b9ad-4769-8c92-a6c4dae69d19",
    "_uuid": "8f2839f25d086af736a60e9eeb907d3b93b6e0e5",
    "execution": {
     "iopub.execute_input": "2024-09-09T02:50:20.815060Z",
     "iopub.status.busy": "2024-09-09T02:50:20.814695Z",
     "iopub.status.idle": "2024-09-09T02:50:27.538785Z",
     "shell.execute_reply": "2024-09-09T02:50:27.537961Z"
    },
    "papermill": {
     "duration": 6.734461,
     "end_time": "2024-09-09T02:50:27.541137",
     "exception": false,
     "start_time": "2024-09-09T02:50:20.806676",
     "status": "completed"
    },
    "tags": []
   },
   "outputs": [],
   "source": [
    "# imports\n",
    "import h5py\n",
    "import wandb\n",
    "import numpy as np\n",
    "import pandas as pd\n",
    "from time import time\n",
    "import matplotlib.pyplot as plt\n",
    "from sklearn.model_selection import train_test_split\n",
    "from sklearn.metrics import confusion_matrix, ConfusionMatrixDisplay\n",
    "\n",
    "import torch\n",
    "import torch.nn as nn\n",
    "import torch.optim as optim\n",
    "import torch.nn.functional as F\n",
    "from torch.utils.data import DataLoader, Dataset"
   ]
  },
  {
   "cell_type": "code",
   "execution_count": 2,
   "id": "90d48986",
   "metadata": {
    "execution": {
     "iopub.execute_input": "2024-09-09T02:50:27.552290Z",
     "iopub.status.busy": "2024-09-09T02:50:27.551739Z",
     "iopub.status.idle": "2024-09-09T02:50:27.569761Z",
     "shell.execute_reply": "2024-09-09T02:50:27.569033Z"
    },
    "papermill": {
     "duration": 0.025499,
     "end_time": "2024-09-09T02:50:27.571725",
     "exception": false,
     "start_time": "2024-09-09T02:50:27.546226",
     "status": "completed"
    },
    "tags": []
   },
   "outputs": [],
   "source": [
    "# Read the dataset\n",
    "dataset_file = h5py.File(\"/kaggle/input/radioml2018/GOLD_XYZ_OSC.0001_1024.hdf5\", \"r\")\n",
    "\n",
    "# Base modulation classes\n",
    "base_modulation_classes = [\n",
    "    'OOK', '4ASK', '8ASK', 'BPSK', 'QPSK', '8PSK', '16PSK', '32PSK',\n",
    "    '16APSK', '32APSK', '64APSK', '128APSK', '16QAM', '32QAM', '64QAM',\n",
    "    '128QAM', '256QAM', 'AM-SSB-WC', 'AM-SSB-SC', 'AM-DSB-WC', 'AM-DSB-SC',\n",
    "    'FM', 'GMSK', 'OQPSK'\n",
    "]\n",
    "\n",
    "# Selected modulation classes\n",
    "selected_modulation_classes = [\n",
    "    '4ASK', 'BPSK', 'QPSK', '16PSK', '16QAM', 'FM', 'AM-DSB-WC', '32APSK'\n",
    "]\n",
    "\n",
    "# Get the indices of selected modulation classes\n",
    "selected_classes_id = [base_modulation_classes.index(cls) for cls in selected_modulation_classes]"
   ]
  },
  {
   "cell_type": "code",
   "execution_count": 3,
   "id": "12a6b5d1",
   "metadata": {
    "execution": {
     "iopub.execute_input": "2024-09-09T02:50:27.582123Z",
     "iopub.status.busy": "2024-09-09T02:50:27.581593Z",
     "iopub.status.idle": "2024-09-09T02:50:27.606473Z",
     "shell.execute_reply": "2024-09-09T02:50:27.605738Z"
    },
    "papermill": {
     "duration": 0.032275,
     "end_time": "2024-09-09T02:50:27.608458",
     "exception": false,
     "start_time": "2024-09-09T02:50:27.576183",
     "status": "completed"
    },
    "tags": []
   },
   "outputs": [],
   "source": [
    "# Model\n",
    "\n",
    "class SEBlock(nn.Module):\n",
    "    \"\"\" Squeeze-and-Excitation Block \"\"\"\n",
    "    def __init__(self, channels, reduction=16):\n",
    "        super(SEBlock, self).__init__()\n",
    "        self.se = nn.Sequential(\n",
    "            nn.AdaptiveAvgPool2d(1),\n",
    "            nn.Conv2d(channels, channels // reduction, 1),\n",
    "            nn.ReLU(),\n",
    "            nn.Conv2d(channels // reduction, channels, 1),\n",
    "            nn.Sigmoid()\n",
    "        )\n",
    "\n",
    "    def forward(self, x):\n",
    "        scale = self.se(x)\n",
    "        return x * scale\n",
    "\n",
    "class MultiHeadAttention(nn.Module):\n",
    "    \"\"\" Multi-Head Attention Module \"\"\"\n",
    "    def __init__(self, d_model, num_heads):\n",
    "        super(MultiHeadAttention, self).__init__()\n",
    "        self.attention = nn.MultiheadAttention(d_model, num_heads, batch_first=True)\n",
    "\n",
    "    def forward(self, x):\n",
    "        attn_output, _ = self.attention(x, x, x)\n",
    "        return attn_output\n",
    "\n",
    "class RadioNet(nn.Module):\n",
    "    def __init__(self, num_classes):\n",
    "        super(RadioNet, self).__init__()\n",
    "\n",
    "        # Separate Convolutional Pathways for I and Q\n",
    "        self.q_conv = nn.Sequential(\n",
    "            nn.Conv2d(1, 64, 3, padding=1),\n",
    "            nn.BatchNorm2d(64),\n",
    "            nn.LeakyReLU(0.1),\n",
    "            SEBlock(64),\n",
    "            nn.Conv2d(64, 128, 3, padding=1),\n",
    "            nn.BatchNorm2d(128),\n",
    "            nn.LeakyReLU(0.1),\n",
    "            nn.MaxPool2d(2, stride=2),\n",
    "            nn.Conv2d(128, 256, 3, padding=1),\n",
    "            nn.BatchNorm2d(256),\n",
    "            nn.LeakyReLU(0.1),\n",
    "            SEBlock(256),\n",
    "            nn.MaxPool2d(2, stride=2)\n",
    "        )\n",
    "\n",
    "        self.i_conv = nn.Sequential(\n",
    "            nn.Conv2d(1, 64, 3, padding=1),\n",
    "            nn.BatchNorm2d(64),\n",
    "            nn.LeakyReLU(0.1),\n",
    "            SEBlock(64),\n",
    "            nn.Conv2d(64, 128, 3, padding=1),\n",
    "            nn.BatchNorm2d(128),\n",
    "            nn.LeakyReLU(0.1),\n",
    "            nn.MaxPool2d(2, stride=2),\n",
    "            nn.Conv2d(128, 256, 3, padding=1),\n",
    "            nn.BatchNorm2d(256),\n",
    "            nn.LeakyReLU(0.1),\n",
    "            SEBlock(256),\n",
    "            nn.MaxPool2d(2, stride=2)\n",
    "        )\n",
    "\n",
    "        self.feature_size = self._get_conv_output((1, 32, 32))\n",
    "\n",
    "        # Bidirectional LSTM with Layer Normalization\n",
    "        self.lstm = nn.LSTM(self.feature_size * 2, 512, num_layers=2, \n",
    "                            batch_first=True, bidirectional=True, dropout=0.3)\n",
    "        self.layer_norm = nn.LayerNorm(1024)  # Layer normalization after LSTM\n",
    "\n",
    "        # Multi-Head Attention with multiple heads\n",
    "        self.multi_head_attn = MultiHeadAttention(1024, num_heads=8)\n",
    "\n",
    "        # Enhanced Fully Connected Layers with Dense Connections\n",
    "        self.fc = nn.Sequential(\n",
    "            nn.Linear(1024, 1024),\n",
    "            nn.LeakyReLU(0.1),\n",
    "            nn.Dropout(0.5),\n",
    "            nn.Linear(1024, 512),\n",
    "            nn.LeakyReLU(0.1),\n",
    "            nn.Dropout(0.5),\n",
    "            nn.Linear(512, 256),\n",
    "            nn.LeakyReLU(0.1),\n",
    "            nn.Dropout(0.3),\n",
    "            nn.Linear(256, 64),\n",
    "            nn.LeakyReLU(0.1)\n",
    "        )\n",
    "\n",
    "        self.output = nn.Linear(64, num_classes)\n",
    "\n",
    "    def _get_conv_output(self, shape):\n",
    "        input = torch.rand(1, *shape)\n",
    "        output = self.q_conv(input)\n",
    "        return int(torch.numel(output) / output.shape[0])\n",
    "\n",
    "    def forward(self, i_input, q_input):\n",
    "        q = self.q_conv(q_input)\n",
    "        q = q.view(q.size(0), -1)\n",
    "\n",
    "        i = self.i_conv(i_input)\n",
    "        i = i.view(i.size(0), -1)\n",
    "\n",
    "        combined = torch.cat((q, i), dim=1)\n",
    "        combined = combined.unsqueeze(1)  # Add sequence dimension\n",
    "\n",
    "        lstm_out, _ = self.lstm(combined)\n",
    "        lstm_out = self.layer_norm(lstm_out)\n",
    "\n",
    "        # Apply Multi-Head Attention\n",
    "        attn_output = self.multi_head_attn(lstm_out)\n",
    "        context = torch.sum(attn_output, dim=1)  # Sum up the attended output\n",
    "\n",
    "        x = self.fc(context)\n",
    "        x = self.output(x)\n",
    "\n",
    "        return torch.log_softmax(x, dim=1)\n",
    "\n",
    "def create_model(num_classes):\n",
    "    model = RadioNet(num_classes)\n",
    "    learning_rate = 0.0003\n",
    "    optimizer = optim.AdamW(model.parameters(), lr=learning_rate, weight_decay=1e-5)\n",
    "    loss_fn = nn.CrossEntropyLoss()\n",
    "    scheduler = optim.lr_scheduler.ReduceLROnPlateau(optimizer, mode='min', factor=0.1, patience=5, verbose=True)\n",
    "    return model, optimizer, loss_fn, scheduler"
   ]
  },
  {
   "cell_type": "code",
   "execution_count": 4,
   "id": "215cb2ca",
   "metadata": {
    "execution": {
     "iopub.execute_input": "2024-09-09T02:50:27.619211Z",
     "iopub.status.busy": "2024-09-09T02:50:27.618906Z",
     "iopub.status.idle": "2024-09-09T02:50:30.389687Z",
     "shell.execute_reply": "2024-09-09T02:50:30.388814Z"
    },
    "papermill": {
     "duration": 2.778594,
     "end_time": "2024-09-09T02:50:30.391930",
     "exception": false,
     "start_time": "2024-09-09T02:50:27.613336",
     "status": "completed"
    },
    "tags": []
   },
   "outputs": [
    {
     "name": "stderr",
     "output_type": "stream",
     "text": [
      "/opt/conda/lib/python3.10/site-packages/torch/optim/lr_scheduler.py:60: UserWarning: The verbose parameter is deprecated. Please use get_last_lr() to access the learning rate.\n",
      "  warnings.warn(\n"
     ]
    }
   ],
   "source": [
    "# Initialize model, optimizer, and loss function\n",
    "num_classes = len(selected_modulation_classes)\n",
    "model, optimizer, loss_fn, scheduler = create_model(num_classes)"
   ]
  },
  {
   "cell_type": "code",
   "execution_count": 5,
   "id": "f175d15e",
   "metadata": {
    "execution": {
     "iopub.execute_input": "2024-09-09T02:50:30.403232Z",
     "iopub.status.busy": "2024-09-09T02:50:30.402653Z",
     "iopub.status.idle": "2024-09-09T02:50:30.852653Z",
     "shell.execute_reply": "2024-09-09T02:50:30.851664Z"
    },
    "papermill": {
     "duration": 0.457963,
     "end_time": "2024-09-09T02:50:30.854830",
     "exception": false,
     "start_time": "2024-09-09T02:50:30.396867",
     "status": "completed"
    },
    "tags": []
   },
   "outputs": [
    {
     "data": {
      "text/plain": [
       "RadioNet(\n",
       "  (q_conv): Sequential(\n",
       "    (0): Conv2d(1, 64, kernel_size=(3, 3), stride=(1, 1), padding=(1, 1))\n",
       "    (1): BatchNorm2d(64, eps=1e-05, momentum=0.1, affine=True, track_running_stats=True)\n",
       "    (2): LeakyReLU(negative_slope=0.1)\n",
       "    (3): SEBlock(\n",
       "      (se): Sequential(\n",
       "        (0): AdaptiveAvgPool2d(output_size=1)\n",
       "        (1): Conv2d(64, 4, kernel_size=(1, 1), stride=(1, 1))\n",
       "        (2): ReLU()\n",
       "        (3): Conv2d(4, 64, kernel_size=(1, 1), stride=(1, 1))\n",
       "        (4): Sigmoid()\n",
       "      )\n",
       "    )\n",
       "    (4): Conv2d(64, 128, kernel_size=(3, 3), stride=(1, 1), padding=(1, 1))\n",
       "    (5): BatchNorm2d(128, eps=1e-05, momentum=0.1, affine=True, track_running_stats=True)\n",
       "    (6): LeakyReLU(negative_slope=0.1)\n",
       "    (7): MaxPool2d(kernel_size=2, stride=2, padding=0, dilation=1, ceil_mode=False)\n",
       "    (8): Conv2d(128, 256, kernel_size=(3, 3), stride=(1, 1), padding=(1, 1))\n",
       "    (9): BatchNorm2d(256, eps=1e-05, momentum=0.1, affine=True, track_running_stats=True)\n",
       "    (10): LeakyReLU(negative_slope=0.1)\n",
       "    (11): SEBlock(\n",
       "      (se): Sequential(\n",
       "        (0): AdaptiveAvgPool2d(output_size=1)\n",
       "        (1): Conv2d(256, 16, kernel_size=(1, 1), stride=(1, 1))\n",
       "        (2): ReLU()\n",
       "        (3): Conv2d(16, 256, kernel_size=(1, 1), stride=(1, 1))\n",
       "        (4): Sigmoid()\n",
       "      )\n",
       "    )\n",
       "    (12): MaxPool2d(kernel_size=2, stride=2, padding=0, dilation=1, ceil_mode=False)\n",
       "  )\n",
       "  (i_conv): Sequential(\n",
       "    (0): Conv2d(1, 64, kernel_size=(3, 3), stride=(1, 1), padding=(1, 1))\n",
       "    (1): BatchNorm2d(64, eps=1e-05, momentum=0.1, affine=True, track_running_stats=True)\n",
       "    (2): LeakyReLU(negative_slope=0.1)\n",
       "    (3): SEBlock(\n",
       "      (se): Sequential(\n",
       "        (0): AdaptiveAvgPool2d(output_size=1)\n",
       "        (1): Conv2d(64, 4, kernel_size=(1, 1), stride=(1, 1))\n",
       "        (2): ReLU()\n",
       "        (3): Conv2d(4, 64, kernel_size=(1, 1), stride=(1, 1))\n",
       "        (4): Sigmoid()\n",
       "      )\n",
       "    )\n",
       "    (4): Conv2d(64, 128, kernel_size=(3, 3), stride=(1, 1), padding=(1, 1))\n",
       "    (5): BatchNorm2d(128, eps=1e-05, momentum=0.1, affine=True, track_running_stats=True)\n",
       "    (6): LeakyReLU(negative_slope=0.1)\n",
       "    (7): MaxPool2d(kernel_size=2, stride=2, padding=0, dilation=1, ceil_mode=False)\n",
       "    (8): Conv2d(128, 256, kernel_size=(3, 3), stride=(1, 1), padding=(1, 1))\n",
       "    (9): BatchNorm2d(256, eps=1e-05, momentum=0.1, affine=True, track_running_stats=True)\n",
       "    (10): LeakyReLU(negative_slope=0.1)\n",
       "    (11): SEBlock(\n",
       "      (se): Sequential(\n",
       "        (0): AdaptiveAvgPool2d(output_size=1)\n",
       "        (1): Conv2d(256, 16, kernel_size=(1, 1), stride=(1, 1))\n",
       "        (2): ReLU()\n",
       "        (3): Conv2d(16, 256, kernel_size=(1, 1), stride=(1, 1))\n",
       "        (4): Sigmoid()\n",
       "      )\n",
       "    )\n",
       "    (12): MaxPool2d(kernel_size=2, stride=2, padding=0, dilation=1, ceil_mode=False)\n",
       "  )\n",
       "  (lstm): LSTM(32768, 512, num_layers=2, batch_first=True, dropout=0.3, bidirectional=True)\n",
       "  (layer_norm): LayerNorm((1024,), eps=1e-05, elementwise_affine=True)\n",
       "  (multi_head_attn): MultiHeadAttention(\n",
       "    (attention): MultiheadAttention(\n",
       "      (out_proj): NonDynamicallyQuantizableLinear(in_features=1024, out_features=1024, bias=True)\n",
       "    )\n",
       "  )\n",
       "  (fc): Sequential(\n",
       "    (0): Linear(in_features=1024, out_features=1024, bias=True)\n",
       "    (1): LeakyReLU(negative_slope=0.1)\n",
       "    (2): Dropout(p=0.5, inplace=False)\n",
       "    (3): Linear(in_features=1024, out_features=512, bias=True)\n",
       "    (4): LeakyReLU(negative_slope=0.1)\n",
       "    (5): Dropout(p=0.5, inplace=False)\n",
       "    (6): Linear(in_features=512, out_features=256, bias=True)\n",
       "    (7): LeakyReLU(negative_slope=0.1)\n",
       "    (8): Dropout(p=0.3, inplace=False)\n",
       "    (9): Linear(in_features=256, out_features=64, bias=True)\n",
       "    (10): LeakyReLU(negative_slope=0.1)\n",
       "  )\n",
       "  (output): Linear(in_features=64, out_features=8, bias=True)\n",
       ")"
      ]
     },
     "execution_count": 5,
     "metadata": {},
     "output_type": "execute_result"
    }
   ],
   "source": [
    "# Check if multiple GPUs are available and use them if possible\n",
    "if torch.cuda.device_count() > 1:\n",
    "    print(f\"Let's use {torch.cuda.device_count()} GPUs!\")\n",
    "    # Wrap the model with DataParallel to parallelize across available GPUs\n",
    "    model = nn.DataParallel(model)\n",
    "\n",
    "# Set device to CUDA if available, otherwise fallback to CPU\n",
    "device = torch.device(\"cuda\" if torch.cuda.is_available() else \"cpu\")\n",
    "\n",
    "# Move the model to the appropriate device (GPU or CPU)\n",
    "model.to(device)"
   ]
  },
  {
   "cell_type": "code",
   "execution_count": 6,
   "id": "4d3d3d2d",
   "metadata": {
    "execution": {
     "iopub.execute_input": "2024-09-09T02:50:30.866677Z",
     "iopub.status.busy": "2024-09-09T02:50:30.865923Z",
     "iopub.status.idle": "2024-09-09T02:50:41.618884Z",
     "shell.execute_reply": "2024-09-09T02:50:41.617712Z"
    },
    "papermill": {
     "duration": 10.761248,
     "end_time": "2024-09-09T02:50:41.621374",
     "exception": false,
     "start_time": "2024-09-09T02:50:30.860126",
     "status": "completed"
    },
    "tags": []
   },
   "outputs": [],
   "source": [
    "# Number of SNRs (from 30 SNR to 22 SNR)\n",
    "N_SNR = 4 \n",
    "\n",
    "# Initialize placeholders for data\n",
    "X_data = None\n",
    "y_data = None\n",
    "\n",
    "# Loop through selected modulation classes\n",
    "for id in selected_classes_id:\n",
    "    # Load data slices based on indices\n",
    "    X_slice = dataset_file['X'][(106496*(id+1) - 4096*N_SNR) : 106496*(id+1)]\n",
    "    y_slice = dataset_file['Y'][(106496*(id+1) - 4096*N_SNR) : 106496*(id+1)]\n",
    "    \n",
    "    # Concatenate the slices to build the dataset\n",
    "    if X_data is not None:\n",
    "        X_data = np.concatenate([X_data, X_slice], axis=0)\n",
    "        y_data = np.concatenate([y_data, y_slice], axis=0)\n",
    "    else:\n",
    "        X_data = X_slice\n",
    "        y_data = y_slice\n",
    "\n",
    "# Reshape the X_data to the required shape (e.g., 32x32 with 2 channels)\n",
    "X_data = X_data.reshape(len(X_data), 32, 32, 2)\n",
    "\n",
    "# Convert y_data to a DataFrame for easier manipulation\n",
    "y_data_df = pd.DataFrame(y_data)\n",
    "\n",
    "# Drop columns where the sum is 0 (i.e., no modulation class data in that column)\n",
    "for column in y_data_df.columns:\n",
    "    if sum(y_data_df[column]) == 0:\n",
    "        y_data_df = y_data_df.drop(columns=[column])\n",
    "\n",
    "# Assign the remaining columns to match the selected modulation classes\n",
    "y_data_df.columns = selected_modulation_classes\n",
    "\n",
    "# Split the dataset into training and test sets (80-20 split)\n",
    "X_train, X_test, y_train, y_test = train_test_split(X_data, y_data_df, test_size=0.2)"
   ]
  },
  {
   "cell_type": "code",
   "execution_count": 7,
   "id": "093b36a0",
   "metadata": {
    "execution": {
     "iopub.execute_input": "2024-09-09T02:50:41.633409Z",
     "iopub.status.busy": "2024-09-09T02:50:41.632691Z",
     "iopub.status.idle": "2024-09-09T02:50:41.901193Z",
     "shell.execute_reply": "2024-09-09T02:50:41.900158Z"
    },
    "papermill": {
     "duration": 0.276803,
     "end_time": "2024-09-09T02:50:41.903423",
     "exception": false,
     "start_time": "2024-09-09T02:50:41.626620",
     "status": "completed"
    },
    "tags": []
   },
   "outputs": [
    {
     "name": "stdout",
     "output_type": "stream",
     "text": [
      "Batch X shape: torch.Size([32, 32, 32, 2])\n",
      "Batch y shape: torch.Size([32, 8])\n"
     ]
    }
   ],
   "source": [
    "# Define the custom Dataset class\n",
    "class RadioMLDataset(Dataset):\n",
    "    def __init__(self, X, y):\n",
    "        self.X = torch.from_numpy(X).float().to(device)  # Convert X to a PyTorch tensor\n",
    "        self.y = torch.from_numpy(y.values).float().to(device)  # Convert y to a PyTorch tensor\n",
    "    \n",
    "    def __len__(self):\n",
    "        return len(self.X)  # Return the number of samples in the dataset\n",
    "    \n",
    "    def __getitem__(self, idx):\n",
    "        return self.X[idx], self.y[idx]  # Return a sample and its corresponding label\n",
    "\n",
    "# Create Dataset objects for training and testing data\n",
    "train_dataset = RadioMLDataset(X_train, y_train)\n",
    "test_dataset = RadioMLDataset(X_test, y_test)\n",
    "\n",
    "# Create DataLoader objects for batching and shuffling data\n",
    "batch_size = 32  # You can adjust the batch size as needed\n",
    "train_loader = DataLoader(train_dataset, batch_size=batch_size, shuffle=True)  # Shuffle training data\n",
    "test_loader = DataLoader(test_dataset, batch_size=batch_size, shuffle=False)  # No shuffling for test data\n",
    "\n",
    "# Example of how to use the DataLoader\n",
    "for batch_X, batch_y in train_loader:\n",
    "    # batch_X and batch_y are PyTorch tensors\n",
    "    # batch_X shape: (batch_size, 32, 32, 2)\n",
    "    # batch_y shape: (batch_size, num_classes)\n",
    "    print(f\"Batch X shape: {batch_X.shape}\")\n",
    "    print(f\"Batch y shape: {batch_y.shape}\")\n",
    "    break  # This breaks the loop after the first batch, just to demonstrate"
   ]
  },
  {
   "cell_type": "code",
   "execution_count": 8,
   "id": "2c9ac566",
   "metadata": {
    "execution": {
     "iopub.execute_input": "2024-09-09T02:50:41.915842Z",
     "iopub.status.busy": "2024-09-09T02:50:41.915051Z",
     "iopub.status.idle": "2024-09-09T02:50:41.920690Z",
     "shell.execute_reply": "2024-09-09T02:50:41.919763Z"
    },
    "papermill": {
     "duration": 0.013799,
     "end_time": "2024-09-09T02:50:41.922646",
     "exception": false,
     "start_time": "2024-09-09T02:50:41.908847",
     "status": "completed"
    },
    "tags": []
   },
   "outputs": [],
   "source": [
    "# Training parameters\n",
    "epochs = 50\n",
    "patience = 10\n",
    "best_acc = 0\n",
    "no_improve = 0\n",
    "path_checkpoint = \"model_checkpoint.pth\"\n",
    "\n",
    "# Training loop\n",
    "train_losses, train_accs, val_losses, val_accs = [], [], [], []"
   ]
  },
  {
   "cell_type": "code",
   "execution_count": 9,
   "id": "57cd23c2",
   "metadata": {
    "execution": {
     "iopub.execute_input": "2024-09-09T02:50:41.934493Z",
     "iopub.status.busy": "2024-09-09T02:50:41.933825Z",
     "iopub.status.idle": "2024-09-09T02:50:43.432153Z",
     "shell.execute_reply": "2024-09-09T02:50:43.431208Z"
    },
    "papermill": {
     "duration": 1.506559,
     "end_time": "2024-09-09T02:50:43.434329",
     "exception": false,
     "start_time": "2024-09-09T02:50:41.927770",
     "status": "completed"
    },
    "tags": []
   },
   "outputs": [
    {
     "name": "stderr",
     "output_type": "stream",
     "text": [
      "\u001b[34m\u001b[1mwandb\u001b[0m: W&B API key is configured. Use \u001b[1m`wandb login --relogin`\u001b[0m to force relogin\n",
      "\u001b[34m\u001b[1mwandb\u001b[0m: \u001b[33mWARNING\u001b[0m If you're specifying your api key in code, ensure this code is not shared publicly.\n",
      "\u001b[34m\u001b[1mwandb\u001b[0m: \u001b[33mWARNING\u001b[0m Consider setting the WANDB_API_KEY environment variable, or running `wandb login` from the command line.\n",
      "\u001b[34m\u001b[1mwandb\u001b[0m: Appending key for api.wandb.ai to your netrc file: /root/.netrc\n"
     ]
    },
    {
     "data": {
      "text/plain": [
       "True"
      ]
     },
     "execution_count": 9,
     "metadata": {},
     "output_type": "execute_result"
    }
   ],
   "source": [
    "# wandb login\n",
    "from kaggle_secrets import UserSecretsClient\n",
    "\n",
    "user_secrets = UserSecretsClient()\n",
    "my_secret = user_secrets.get_secret(\"wandb_api_key\") \n",
    "wandb.login(key=my_secret)"
   ]
  },
  {
   "cell_type": "code",
   "execution_count": 10,
   "id": "8e2ad380",
   "metadata": {
    "execution": {
     "iopub.execute_input": "2024-09-09T02:50:43.446780Z",
     "iopub.status.busy": "2024-09-09T02:50:43.446440Z",
     "iopub.status.idle": "2024-09-09T05:08:33.609559Z",
     "shell.execute_reply": "2024-09-09T05:08:33.608647Z"
    },
    "papermill": {
     "duration": 8270.171729,
     "end_time": "2024-09-09T05:08:33.611662",
     "exception": false,
     "start_time": "2024-09-09T02:50:43.439933",
     "status": "completed"
    },
    "tags": []
   },
   "outputs": [
    {
     "name": "stderr",
     "output_type": "stream",
     "text": [
      "\u001b[34m\u001b[1mwandb\u001b[0m: Currently logged in as: \u001b[33mdevcode03\u001b[0m (\u001b[33mdevcode03-gujarat-technological-university\u001b[0m). Use \u001b[1m`wandb login --relogin`\u001b[0m to force relogin\n",
      "\u001b[34m\u001b[1mwandb\u001b[0m: wandb version 0.17.9 is available!  To upgrade, please run:\n",
      "\u001b[34m\u001b[1mwandb\u001b[0m:  $ pip install wandb --upgrade\n",
      "\u001b[34m\u001b[1mwandb\u001b[0m: Tracking run with wandb version 0.17.7\n",
      "\u001b[34m\u001b[1mwandb\u001b[0m: Run data is saved locally in \u001b[35m\u001b[1m/kaggle/working/wandb/run-20240909_025043-annmf5ah\u001b[0m\n",
      "\u001b[34m\u001b[1mwandb\u001b[0m: Run \u001b[1m`wandb offline`\u001b[0m to turn off syncing.\n",
      "\u001b[34m\u001b[1mwandb\u001b[0m: Syncing run \u001b[33mRadioNetE50\u001b[0m\n",
      "\u001b[34m\u001b[1mwandb\u001b[0m: ⭐️ View project at \u001b[34m\u001b[4mhttps://wandb.ai/devcode03-gujarat-technological-university/RadioML\u001b[0m\n",
      "\u001b[34m\u001b[1mwandb\u001b[0m: 🚀 View run at \u001b[34m\u001b[4mhttps://wandb.ai/devcode03-gujarat-technological-university/RadioML/runs/annmf5ah\u001b[0m\n"
     ]
    },
    {
     "name": "stdout",
     "output_type": "stream",
     "text": [
      "Epoch 1/50, Train Loss: 0.8519, Train Acc: 0.5875, Val Loss: 0.7792, Val Acc: 0.6084\n",
      "Epoch 2/50, Train Loss: 0.5791, Train Acc: 0.7395, Val Loss: 0.6435, Val Acc: 0.7267\n",
      "Epoch 3/50, Train Loss: 0.5055, Train Acc: 0.7762, Val Loss: 0.4381, Val Acc: 0.8075\n",
      "Epoch 4/50, Train Loss: 0.4800, Train Acc: 0.7863, Val Loss: 0.4312, Val Acc: 0.8129\n",
      "Epoch 5/50, Train Loss: 0.4399, Train Acc: 0.7972, Val Loss: 0.3583, Val Acc: 0.8298\n",
      "Epoch 6/50, Train Loss: 0.3627, Train Acc: 0.8378, Val Loss: 0.3067, Val Acc: 0.8619\n",
      "Epoch 7/50, Train Loss: 0.3432, Train Acc: 0.8489, Val Loss: 0.3225, Val Acc: 0.8617\n",
      "Epoch 8/50, Train Loss: 0.3239, Train Acc: 0.8574, Val Loss: 0.2620, Val Acc: 0.8856\n",
      "Epoch 9/50, Train Loss: 0.3193, Train Acc: 0.8609, Val Loss: 0.3753, Val Acc: 0.8387\n",
      "Epoch 10/50, Train Loss: 0.3050, Train Acc: 0.8659, Val Loss: 0.2774, Val Acc: 0.8751\n",
      "Epoch 11/50, Train Loss: 0.2980, Train Acc: 0.8696, Val Loss: 0.2459, Val Acc: 0.8939\n",
      "Epoch 12/50, Train Loss: 0.3010, Train Acc: 0.8705, Val Loss: 0.2381, Val Acc: 0.8922\n",
      "Epoch 13/50, Train Loss: 0.2702, Train Acc: 0.8816, Val Loss: 0.2277, Val Acc: 0.9022\n",
      "Epoch 14/50, Train Loss: 0.2691, Train Acc: 0.8845, Val Loss: 0.2204, Val Acc: 0.9058\n",
      "Epoch 15/50, Train Loss: 0.2473, Train Acc: 0.8920, Val Loss: 0.2086, Val Acc: 0.9068\n",
      "Epoch 16/50, Train Loss: 0.2330, Train Acc: 0.8970, Val Loss: 0.2059, Val Acc: 0.9031\n",
      "Epoch 17/50, Train Loss: 0.2451, Train Acc: 0.8957, Val Loss: 0.1864, Val Acc: 0.9145\n",
      "Epoch 18/50, Train Loss: 0.2104, Train Acc: 0.9052, Val Loss: 0.1726, Val Acc: 0.9212\n",
      "Epoch 19/50, Train Loss: 0.1991, Train Acc: 0.9102, Val Loss: 0.1808, Val Acc: 0.9167\n",
      "Epoch 20/50, Train Loss: 0.2014, Train Acc: 0.9137, Val Loss: 0.1727, Val Acc: 0.9227\n",
      "Epoch 21/50, Train Loss: 0.1796, Train Acc: 0.9217, Val Loss: 0.1506, Val Acc: 0.9337\n",
      "Epoch 22/50, Train Loss: 0.1669, Train Acc: 0.9278, Val Loss: 0.1412, Val Acc: 0.9380\n",
      "Epoch 23/50, Train Loss: 0.1736, Train Acc: 0.9288, Val Loss: 0.1412, Val Acc: 0.9393\n",
      "Epoch 24/50, Train Loss: 0.1462, Train Acc: 0.9378, Val Loss: 0.1551, Val Acc: 0.9372\n",
      "Epoch 25/50, Train Loss: 0.1538, Train Acc: 0.9391, Val Loss: 0.1686, Val Acc: 0.9330\n",
      "Epoch 26/50, Train Loss: 0.1370, Train Acc: 0.9431, Val Loss: 0.1626, Val Acc: 0.9384\n",
      "Epoch 27/50, Train Loss: 0.1449, Train Acc: 0.9464, Val Loss: 0.1326, Val Acc: 0.9434\n",
      "Epoch 28/50, Train Loss: 0.1250, Train Acc: 0.9513, Val Loss: 0.1271, Val Acc: 0.9487\n",
      "Epoch 29/50, Train Loss: 0.1097, Train Acc: 0.9567, Val Loss: 0.1265, Val Acc: 0.9472\n",
      "Epoch 30/50, Train Loss: 0.1299, Train Acc: 0.9539, Val Loss: 0.1302, Val Acc: 0.9419\n",
      "Epoch 31/50, Train Loss: 0.0989, Train Acc: 0.9619, Val Loss: 0.1240, Val Acc: 0.9483\n",
      "Epoch 32/50, Train Loss: 0.0976, Train Acc: 0.9637, Val Loss: 0.1385, Val Acc: 0.9421\n",
      "Epoch 33/50, Train Loss: 0.0883, Train Acc: 0.9688, Val Loss: 0.1257, Val Acc: 0.9495\n",
      "Epoch 34/50, Train Loss: 0.0888, Train Acc: 0.9709, Val Loss: 0.1559, Val Acc: 0.9464\n",
      "Epoch 35/50, Train Loss: 0.0873, Train Acc: 0.9709, Val Loss: 0.1402, Val Acc: 0.9459\n",
      "Epoch 36/50, Train Loss: 0.0635, Train Acc: 0.9775, Val Loss: 0.1532, Val Acc: 0.9467\n",
      "Epoch 37/50, Train Loss: 0.0591, Train Acc: 0.9797, Val Loss: 0.1874, Val Acc: 0.9418\n",
      "Epoch 38/50, Train Loss: 0.0276, Train Acc: 0.9903, Val Loss: 0.1674, Val Acc: 0.9506\n",
      "Epoch 39/50, Train Loss: 0.0200, Train Acc: 0.9937, Val Loss: 0.1871, Val Acc: 0.9520\n",
      "Epoch 40/50, Train Loss: 0.0156, Train Acc: 0.9944, Val Loss: 0.1975, Val Acc: 0.9506\n",
      "Epoch 41/50, Train Loss: 0.0134, Train Acc: 0.9955, Val Loss: 0.1927, Val Acc: 0.9516\n",
      "Epoch 42/50, Train Loss: 0.0133, Train Acc: 0.9956, Val Loss: 0.1995, Val Acc: 0.9509\n",
      "Epoch 43/50, Train Loss: 0.0110, Train Acc: 0.9963, Val Loss: 0.2259, Val Acc: 0.9509\n",
      "Epoch 44/50, Train Loss: 0.0085, Train Acc: 0.9971, Val Loss: 0.2258, Val Acc: 0.9522\n",
      "Epoch 45/50, Train Loss: 0.0092, Train Acc: 0.9969, Val Loss: 0.2239, Val Acc: 0.9530\n",
      "Epoch 46/50, Train Loss: 0.0078, Train Acc: 0.9974, Val Loss: 0.2233, Val Acc: 0.9529\n",
      "Epoch 47/50, Train Loss: 0.0080, Train Acc: 0.9973, Val Loss: 0.2263, Val Acc: 0.9535\n",
      "Epoch 48/50, Train Loss: 0.0083, Train Acc: 0.9972, Val Loss: 0.2279, Val Acc: 0.9532\n",
      "Epoch 49/50, Train Loss: 0.0076, Train Acc: 0.9976, Val Loss: 0.2271, Val Acc: 0.9531\n",
      "Epoch 50/50, Train Loss: 0.0069, Train Acc: 0.9977, Val Loss: 0.2295, Val Acc: 0.9536\n"
     ]
    },
    {
     "name": "stderr",
     "output_type": "stream",
     "text": [
      "\u001b[34m\u001b[1mwandb\u001b[0m:                                                                                \n",
      "\u001b[34m\u001b[1mwandb\u001b[0m: \n",
      "\u001b[34m\u001b[1mwandb\u001b[0m: Run history:\n",
      "\u001b[34m\u001b[1mwandb\u001b[0m:         epoch ▁▁▁▁▂▂▂▂▂▃▃▃▃▃▃▄▄▄▄▄▅▅▅▅▅▅▆▆▆▆▆▆▇▇▇▇▇███\n",
      "\u001b[34m\u001b[1mwandb\u001b[0m: learning_rate ██████████████████████████████▂▂▂▂▂▁▁▁▁▁\n",
      "\u001b[34m\u001b[1mwandb\u001b[0m:     train_acc ▁▄▄▄▅▅▆▆▆▆▆▆▆▆▆▇▇▇▇▇▇▇▇▇▇▇██████████████\n",
      "\u001b[34m\u001b[1mwandb\u001b[0m:    train_loss █▆▅▅▄▄▄▄▃▃▃▃▃▃▃▃▂▂▂▂▂▂▂▂▂▂▂▂▁▁▁▁▁▁▁▁▁▁▁▁\n",
      "\u001b[34m\u001b[1mwandb\u001b[0m:       val_acc ▁▃▅▅▆▆▇▆▇▇▇▇▇▇▇▇████████████████████████\n",
      "\u001b[34m\u001b[1mwandb\u001b[0m:      val_loss █▇▄▄▃▃▂▄▂▂▂▂▂▂▂▂▁▁▁▁▁▁▁▁▁▁▁▁▁▂▁▂▂▂▂▂▂▂▂▂\n",
      "\u001b[34m\u001b[1mwandb\u001b[0m: \n",
      "\u001b[34m\u001b[1mwandb\u001b[0m: Run summary:\n",
      "\u001b[34m\u001b[1mwandb\u001b[0m:         epoch 50\n",
      "\u001b[34m\u001b[1mwandb\u001b[0m: learning_rate 0.0\n",
      "\u001b[34m\u001b[1mwandb\u001b[0m:     train_acc 0.99775\n",
      "\u001b[34m\u001b[1mwandb\u001b[0m:    train_loss 0.00691\n",
      "\u001b[34m\u001b[1mwandb\u001b[0m:       val_acc 0.95358\n",
      "\u001b[34m\u001b[1mwandb\u001b[0m:      val_loss 0.22949\n",
      "\u001b[34m\u001b[1mwandb\u001b[0m: \n",
      "\u001b[34m\u001b[1mwandb\u001b[0m: 🚀 View run \u001b[33mRadioNetE50\u001b[0m at: \u001b[34m\u001b[4mhttps://wandb.ai/devcode03-gujarat-technological-university/RadioML/runs/annmf5ah\u001b[0m\n",
      "\u001b[34m\u001b[1mwandb\u001b[0m: ⭐️ View project at: \u001b[34m\u001b[4mhttps://wandb.ai/devcode03-gujarat-technological-university/RadioML\u001b[0m\n",
      "\u001b[34m\u001b[1mwandb\u001b[0m: Synced 5 W&B file(s), 0 media file(s), 0 artifact file(s) and 1 other file(s)\n",
      "\u001b[34m\u001b[1mwandb\u001b[0m: Find logs at: \u001b[35m\u001b[1m./wandb/run-20240909_025043-annmf5ah/logs\u001b[0m\n",
      "\u001b[34m\u001b[1mwandb\u001b[0m: \u001b[33mWARNING\u001b[0m The new W&B backend becomes opt-out in version 0.18.0; try it out with `wandb.require(\"core\")`! See https://wandb.me/wandb-core for more information.\n"
     ]
    }
   ],
   "source": [
    "# Initialize wandb\n",
    "wandb.init(project=\"RadioML\", name=\"RadioNetE50\")\n",
    "\n",
    "# Log model architecture\n",
    "wandb.watch(model)\n",
    "\n",
    "for epoch in range(epochs):\n",
    "    # Set model to training mode\n",
    "    model.train()\n",
    "    train_loss, train_correct = 0, 0\n",
    "    # Training loop\n",
    "    for batch_X, batch_y in train_loader:\n",
    "        # Split the input into I and Q components\n",
    "        i_input = batch_X[:, :, :, 0].unsqueeze(1)  # I component\n",
    "        q_input = batch_X[:, :, :, 1].unsqueeze(1)  # Q component\n",
    "        # Zero out the gradients\n",
    "        optimizer.zero_grad()\n",
    "        # Forward pass through the model\n",
    "        outputs = model(i_input, q_input)\n",
    "        # Compute loss\n",
    "        loss = loss_fn(outputs, batch_y)\n",
    "        # Backpropagation\n",
    "        loss.backward()\n",
    "        # Update model parameters\n",
    "        optimizer.step()\n",
    "        # Accumulate training loss and correct predictions\n",
    "        train_loss += loss.item()\n",
    "        train_correct += (outputs.argmax(1) == batch_y.argmax(1)).sum().item()\n",
    "    # Compute average training loss and accuracy\n",
    "    train_loss /= len(train_loader)\n",
    "    train_acc = train_correct / len(train_dataset)\n",
    "    # Validation loop (without gradient updates)\n",
    "    model.eval()\n",
    "    val_loss, val_correct = 0, 0\n",
    "    with torch.no_grad():\n",
    "        for batch_X, batch_y in test_loader:\n",
    "            # Split the input into I and Q components\n",
    "            i_input = batch_X[:, :, :, 0].unsqueeze(1)  # I component\n",
    "            q_input = batch_X[:, :, :, 1].unsqueeze(1)  # Q component\n",
    "            # Forward pass through the model\n",
    "            outputs = model(i_input, q_input)\n",
    "            # Compute validation loss\n",
    "            val_loss += loss_fn(outputs, batch_y).item()\n",
    "            # Accumulate correct predictions\n",
    "            val_correct += (outputs.argmax(1) == batch_y.argmax(1)).sum().item()\n",
    "    # Compute average validation loss and accuracy\n",
    "    val_loss /= len(test_loader)\n",
    "    val_acc = val_correct / len(test_dataset)\n",
    "    # Save loss and accuracy for later plotting\n",
    "    train_losses.append(train_loss)\n",
    "    train_accs.append(train_acc)\n",
    "    val_losses.append(val_loss)\n",
    "    val_accs.append(val_acc)\n",
    "\n",
    "    # Log metrics to wandb\n",
    "    wandb.log({\n",
    "        \"epoch\": epoch + 1,\n",
    "        \"train_loss\": train_loss,\n",
    "        \"train_acc\": train_acc,\n",
    "        \"val_loss\": val_loss,\n",
    "        \"val_acc\": val_acc,\n",
    "        \"learning_rate\": optimizer.param_groups[0]['lr']\n",
    "    })\n",
    "\n",
    "    # Print progress for this epoch\n",
    "    print(f\"Epoch {epoch+1}/{epochs}, Train Loss: {train_loss:.4f}, Train Acc: {train_acc:.4f}, \"\n",
    "          f\"Val Loss: {val_loss:.4f}, Val Acc: {val_acc:.4f}\")\n",
    "    # Step the learning rate scheduler based on validation loss\n",
    "    scheduler.step(val_loss)\n",
    "    # Early stopping and model checkpointing\n",
    "    if val_acc > best_acc:\n",
    "        best_acc = val_acc\n",
    "        torch.save(model.state_dict(), path_checkpoint)  # Save the model checkpoint\n",
    "        wandb.save(path_checkpoint)  # Save the model checkpoint to wandb\n",
    "        no_improve = 0  # Reset no improvement counter\n",
    "    else:\n",
    "        no_improve += 1\n",
    "        if no_improve == patience:\n",
    "            print(\"Early stopping\")\n",
    "            break\n",
    "\n",
    "# Finish the wandb run\n",
    "wandb.finish()"
   ]
  },
  {
   "cell_type": "code",
   "execution_count": 11,
   "id": "6eff0537",
   "metadata": {
    "execution": {
     "iopub.execute_input": "2024-09-09T05:08:33.633734Z",
     "iopub.status.busy": "2024-09-09T05:08:33.633429Z",
     "iopub.status.idle": "2024-09-09T05:08:34.092181Z",
     "shell.execute_reply": "2024-09-09T05:08:34.091285Z"
    },
    "papermill": {
     "duration": 0.472445,
     "end_time": "2024-09-09T05:08:34.094644",
     "exception": false,
     "start_time": "2024-09-09T05:08:33.622199",
     "status": "completed"
    },
    "tags": []
   },
   "outputs": [
    {
     "data": {
      "image/png": "[encoded data removed]",
      "text/plain": [
       "<Figure size 1200x400 with 2 Axes>"
      ]
     },
     "metadata": {},
     "output_type": "display_data"
    }
   ],
   "source": [
    "# Plotting\n",
    "plt.figure(figsize=(12, 4))\n",
    "plt.subplot(1, 2, 1)\n",
    "plt.plot(train_accs, label='Train Accuracy')\n",
    "plt.plot(val_accs, label='Validation Accuracy')\n",
    "plt.legend()\n",
    "plt.title('Accuracy')\n",
    "plt.subplot(1, 2, 2)\n",
    "plt.plot(train_losses, label='Train Loss')\n",
    "plt.plot(val_losses, label='Validation Loss')\n",
    "plt.legend()\n",
    "plt.title('Loss')\n",
    "plt.show()"
   ]
  },
  {
   "cell_type": "code",
   "execution_count": 12,
   "id": "1e44c091",
   "metadata": {
    "execution": {
     "iopub.execute_input": "2024-09-09T05:08:34.118659Z",
     "iopub.status.busy": "2024-09-09T05:08:34.118338Z",
     "iopub.status.idle": "2024-09-09T05:08:42.146294Z",
     "shell.execute_reply": "2024-09-09T05:08:42.145384Z"
    },
    "papermill": {
     "duration": 8.042022,
     "end_time": "2024-09-09T05:08:42.148285",
     "exception": false,
     "start_time": "2024-09-09T05:08:34.106263",
     "status": "completed"
    },
    "tags": []
   },
   "outputs": [
    {
     "name": "stderr",
     "output_type": "stream",
     "text": [
      "/tmp/ipykernel_25/3696326460.py:2: FutureWarning: You are using `torch.load` with `weights_only=False` (the current default value), which uses the default pickle module implicitly. It is possible to construct malicious pickle data which will execute arbitrary code during unpickling (See https://github.com/pytorch/pytorch/blob/main/SECURITY.md#untrusted-models for more details). In a future release, the default value for `weights_only` will be flipped to `True`. This limits the functions that could be executed during unpickling. Arbitrary objects will no longer be allowed to be loaded via this mode unless they are explicitly allowlisted by the user via `torch.serialization.add_safe_globals`. We recommend you start setting `weights_only=True` for any use case where you don't have full control of the loaded file. Please open an issue on GitHub for any issues related to this experimental feature.\n",
      "  model.load_state_dict(torch.load(path_checkpoint))\n"
     ]
    },
    {
     "data": {
      "image/png": "[encoded data removed]",
      "text/plain": [
       "<Figure size 640x480 with 2 Axes>"
      ]
     },
     "metadata": {},
     "output_type": "display_data"
    }
   ],
   "source": [
    "# Model predictions and confusion matrix\n",
    "model.load_state_dict(torch.load(path_checkpoint))\n",
    "model.eval()\n",
    "all_preds, all_labels = [], []\n",
    "with torch.no_grad():\n",
    "    for batch_X, batch_y in test_loader:\n",
    "        i_input, q_input = batch_X[:, :, :, 0].unsqueeze(1), batch_X[:, :, :, 1].unsqueeze(1)\n",
    "        outputs = model(i_input, q_input)\n",
    "        all_preds.extend(outputs.argmax(1).cpu().numpy())\n",
    "        all_labels.extend(batch_y.argmax(1).cpu().numpy())\n",
    "\n",
    "cm = confusion_matrix(all_labels, all_preds)\n",
    "disp = ConfusionMatrixDisplay(confusion_matrix=cm, display_labels=selected_modulation_classes)\n",
    "disp.plot()\n",
    "plt.show()"
   ]
  },
  {
   "cell_type": "code",
   "execution_count": 13,
   "id": "02cc9132",
   "metadata": {
    "execution": {
     "iopub.execute_input": "2024-09-09T05:08:42.173909Z",
     "iopub.status.busy": "2024-09-09T05:08:42.173599Z",
     "iopub.status.idle": "2024-09-09T05:08:45.098213Z",
     "shell.execute_reply": "2024-09-09T05:08:45.097293Z"
    },
    "papermill": {
     "duration": 2.939512,
     "end_time": "2024-09-09T05:08:45.100186",
     "exception": false,
     "start_time": "2024-09-09T05:08:42.160674",
     "status": "completed"
    },
    "tags": []
   },
   "outputs": [
    {
     "name": "stderr",
     "output_type": "stream",
     "text": [
      "/opt/conda/lib/python3.10/site-packages/torch/optim/lr_scheduler.py:60: UserWarning: The verbose parameter is deprecated. Please use get_last_lr() to access the learning rate.\n",
      "  warnings.warn(\n",
      "/tmp/ipykernel_25/2769534498.py:4: FutureWarning: You are using `torch.load` with `weights_only=False` (the current default value), which uses the default pickle module implicitly. It is possible to construct malicious pickle data which will execute arbitrary code during unpickling (See https://github.com/pytorch/pytorch/blob/main/SECURITY.md#untrusted-models for more details). In a future release, the default value for `weights_only` will be flipped to `True`. This limits the functions that could be executed during unpickling. Arbitrary objects will no longer be allowed to be loaded via this mode unless they are explicitly allowlisted by the user via `torch.serialization.add_safe_globals`. We recommend you start setting `weights_only=True` for any use case where you don't have full control of the loaded file. Please open an issue on GitHub for any issues related to this experimental feature.\n",
      "  loaded_model.load_state_dict(torch.load('/kaggle/working/CNN_LSTMmodel.pth'))\n"
     ]
    },
    {
     "data": {
      "text/plain": [
       "<All keys matched successfully>"
      ]
     },
     "execution_count": 13,
     "metadata": {},
     "output_type": "execute_result"
    }
   ],
   "source": [
    "# Save and load model\n",
    "torch.save(model.state_dict(), '/kaggle/working/CNN_LSTMmodel.pth')\n",
    "loaded_model, _, _, _ = create_model(num_classes)\n",
    "loaded_model.load_state_dict(torch.load('/kaggle/working/CNN_LSTMmodel.pth'))"
   ]
  },
  {
   "cell_type": "code",
   "execution_count": 14,
   "id": "5a70619a",
   "metadata": {
    "execution": {
     "iopub.execute_input": "2024-09-09T05:08:45.127717Z",
     "iopub.status.busy": "2024-09-09T05:08:45.126841Z",
     "iopub.status.idle": "2024-09-09T05:08:52.396533Z",
     "shell.execute_reply": "2024-09-09T05:08:52.395640Z"
    },
    "papermill": {
     "duration": 7.285097,
     "end_time": "2024-09-09T05:08:52.398600",
     "exception": false,
     "start_time": "2024-09-09T05:08:45.113503",
     "status": "completed"
    },
    "tags": []
   },
   "outputs": [
    {
     "name": "stdout",
     "output_type": "stream",
     "text": [
      "Restored model, accuracy: 95.36%\n"
     ]
    }
   ],
   "source": [
    "# Evaluate loaded model\n",
    "loaded_model.eval()\n",
    "loaded_model.to(device)\n",
    "correct = 0\n",
    "total = 0\n",
    "with torch.no_grad():\n",
    "    for batch_X, batch_y in test_loader:\n",
    "        i_input, q_input = batch_X[:, :, :, 0].unsqueeze(1), batch_X[:, :, :, 1].unsqueeze(1)\n",
    "        outputs = loaded_model(i_input, q_input)\n",
    "        _, predicted = torch.max(outputs.data, 1)\n",
    "        total += batch_y.size(0)\n",
    "        correct += (predicted == batch_y.argmax(1)).sum().item()\n",
    "\n",
    "print('Restored model, accuracy: {:.2f}%'.format(100 * correct / total))"
   ]
  }
 ],
 "metadata": {
  "kaggle": {
   "accelerator": "gpu",
   "dataSources": [
    {
     "datasetId": 1493018,
     "sourceId": 2468162,
     "sourceType": "datasetVersion"
    }
   ],
   "dockerImageVersionId": 30761,
   "isGpuEnabled": true,
   "isInternetEnabled": true,
   "language": "python",
   "sourceType": "notebook"
  },
  "kernelspec": {
   "display_name": "Python 3",
   "language": "python",
   "name": "python3"
  },
  "language_info": {
   "codemirror_mode": {
    "name": "ipython",
    "version": 3
   },
   "file_extension": ".py",
   "mimetype": "text/x-python",
   "name": "python",
   "nbconvert_exporter": "python",
   "pygments_lexer": "ipython3",
   "version": "3.10.14"
  },
  "papermill": {
   "default_parameters": {},
   "duration": 8317.063356,
   "end_time": "2024-09-09T05:08:55.002222",
   "environment_variables": {},
   "exception": null,
   "input_path": "__notebook__.ipynb",
   "output_path": "__notebook__.ipynb",
   "parameters": {},
   "start_time": "2024-09-09T02:50:17.938866",
   "version": "2.6.0"
  }
 },
 "nbformat": 4,
 "nbformat_minor": 5
}
